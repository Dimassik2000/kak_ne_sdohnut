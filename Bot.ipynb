{
  "nbformat": 4,
  "nbformat_minor": 0,
  "metadata": {
    "colab": {
      "provenance": []
    },
    "kernelspec": {
      "name": "python3",
      "display_name": "Python 3"
    },
    "language_info": {
      "name": "python"
    }
  },
  "cells": [
    {
      "cell_type": "code",
      "source": [
        "!pip install transformers"
      ],
      "metadata": {
        "colab": {
          "base_uri": "https://localhost:8080/"
        },
        "id": "Sc96_Y1CJc8X",
        "outputId": "d431c1cc-748f-4368-d49e-e75c49acc1a1"
      },
      "execution_count": 2,
      "outputs": [
        {
          "output_type": "stream",
          "name": "stdout",
          "text": [
            "Collecting transformers\n",
            "  Downloading transformers-4.34.1-py3-none-any.whl (7.7 MB)\n",
            "\u001b[2K     \u001b[90m━━━━━━━━━━━━━━━━━━━━━━━━━━━━━━━━━━━━━━━━\u001b[0m \u001b[32m7.7/7.7 MB\u001b[0m \u001b[31m17.2 MB/s\u001b[0m eta \u001b[36m0:00:00\u001b[0m\n",
            "\u001b[?25hRequirement already satisfied: filelock in /usr/local/lib/python3.10/dist-packages (from transformers) (3.12.4)\n",
            "Collecting huggingface-hub<1.0,>=0.16.4 (from transformers)\n",
            "  Downloading huggingface_hub-0.18.0-py3-none-any.whl (301 kB)\n",
            "\u001b[2K     \u001b[90m━━━━━━━━━━━━━━━━━━━━━━━━━━━━━━━━━━━━━━━━\u001b[0m \u001b[32m302.0/302.0 kB\u001b[0m \u001b[31m33.7 MB/s\u001b[0m eta \u001b[36m0:00:00\u001b[0m\n",
            "\u001b[?25hRequirement already satisfied: numpy>=1.17 in /usr/local/lib/python3.10/dist-packages (from transformers) (1.23.5)\n",
            "Requirement already satisfied: packaging>=20.0 in /usr/local/lib/python3.10/dist-packages (from transformers) (23.2)\n",
            "Requirement already satisfied: pyyaml>=5.1 in /usr/local/lib/python3.10/dist-packages (from transformers) (6.0.1)\n",
            "Requirement already satisfied: regex!=2019.12.17 in /usr/local/lib/python3.10/dist-packages (from transformers) (2023.6.3)\n",
            "Requirement already satisfied: requests in /usr/local/lib/python3.10/dist-packages (from transformers) (2.31.0)\n",
            "Collecting tokenizers<0.15,>=0.14 (from transformers)\n",
            "  Downloading tokenizers-0.14.1-cp310-cp310-manylinux_2_17_x86_64.manylinux2014_x86_64.whl (3.8 MB)\n",
            "\u001b[2K     \u001b[90m━━━━━━━━━━━━━━━━━━━━━━━━━━━━━━━━━━━━━━━━\u001b[0m \u001b[32m3.8/3.8 MB\u001b[0m \u001b[31m67.5 MB/s\u001b[0m eta \u001b[36m0:00:00\u001b[0m\n",
            "\u001b[?25hCollecting safetensors>=0.3.1 (from transformers)\n",
            "  Downloading safetensors-0.4.0-cp310-cp310-manylinux_2_17_x86_64.manylinux2014_x86_64.whl (1.3 MB)\n",
            "\u001b[2K     \u001b[90m━━━━━━━━━━━━━━━━━━━━━━━━━━━━━━━━━━━━━━━━\u001b[0m \u001b[32m1.3/1.3 MB\u001b[0m \u001b[31m69.0 MB/s\u001b[0m eta \u001b[36m0:00:00\u001b[0m\n",
            "\u001b[?25hRequirement already satisfied: tqdm>=4.27 in /usr/local/lib/python3.10/dist-packages (from transformers) (4.66.1)\n",
            "Requirement already satisfied: fsspec>=2023.5.0 in /usr/local/lib/python3.10/dist-packages (from huggingface-hub<1.0,>=0.16.4->transformers) (2023.6.0)\n",
            "Requirement already satisfied: typing-extensions>=3.7.4.3 in /usr/local/lib/python3.10/dist-packages (from huggingface-hub<1.0,>=0.16.4->transformers) (4.5.0)\n",
            "Collecting huggingface-hub<1.0,>=0.16.4 (from transformers)\n",
            "  Downloading huggingface_hub-0.17.3-py3-none-any.whl (295 kB)\n",
            "\u001b[2K     \u001b[90m━━━━━━━━━━━━━━━━━━━━━━━━━━━━━━━━━━━━━━━━\u001b[0m \u001b[32m295.0/295.0 kB\u001b[0m \u001b[31m31.9 MB/s\u001b[0m eta \u001b[36m0:00:00\u001b[0m\n",
            "\u001b[?25hRequirement already satisfied: charset-normalizer<4,>=2 in /usr/local/lib/python3.10/dist-packages (from requests->transformers) (3.3.0)\n",
            "Requirement already satisfied: idna<4,>=2.5 in /usr/local/lib/python3.10/dist-packages (from requests->transformers) (3.4)\n",
            "Requirement already satisfied: urllib3<3,>=1.21.1 in /usr/local/lib/python3.10/dist-packages (from requests->transformers) (2.0.7)\n",
            "Requirement already satisfied: certifi>=2017.4.17 in /usr/local/lib/python3.10/dist-packages (from requests->transformers) (2023.7.22)\n",
            "Installing collected packages: safetensors, huggingface-hub, tokenizers, transformers\n",
            "Successfully installed huggingface-hub-0.17.3 safetensors-0.4.0 tokenizers-0.14.1 transformers-4.34.1\n"
          ]
        }
      ]
    },
    {
      "cell_type": "markdown",
      "source": [
        "### Модель (может выдавать текст о суициде и Dead inside мыслях)"
      ],
      "metadata": {
        "id": "AR7DZ52SX5w-"
      }
    },
    {
      "cell_type": "code",
      "execution_count": 4,
      "metadata": {
        "colab": {
          "base_uri": "https://localhost:8080/"
        },
        "id": "gd5kJxXwBLR1",
        "outputId": "fb9f5805-93c3-45a2-ac82-153db29e1ec2"
      },
      "outputs": [
        {
          "name": "stdout",
          "output_type": "stream",
          "text": [
            "Введите предложение, чтобы сгенировать текст: He sat on the window and\n"
          ]
        },
        {
          "output_type": "execute_result",
          "data": {
            "text/plain": [
              "[{'generated_text': \"He sat on the window and stared outside. nothing. nothing but trees. nothing but the black sky overhead. nothing but the stars. \\n he wondered if he should write her a letter or a text. to find out why. and it wasn't\"},\n",
              " {'generated_text': \"He sat on the window and looked out at the city. \\n they 'd have to meet again soon ; he felt that the time was passing. his plan was to pick her up tomorrow morning and she 'd be out of sight for a few hours while\"},\n",
              " {'generated_text': \"He sat on the window and put his face in his hands. it took less than ten minutes for henry to have his thoughts and his emotions at bay. he just couldn't stop thinking about it. it was all he could do to keep from jumping\"},\n",
              " {'generated_text': 'He sat on the window and watched me. \\n this was not his way, and it was not my way. \\n it was my way. i had to keep my mouth shut. \\n the next few hours, i never went anywhere without dad.'},\n",
              " {'generated_text': 'He sat on the window and looked outside at the darkness. \\n \" so what do we do now? \" he asked finally. \\n the old woman said nothing. \\n \" what do we do, old woman? \" \\n she did not answer.'},\n",
              " {'generated_text': 'He sat on the window and thought. a few days back he had just turned thirty and seemed to have found his way to heaven. he had an exciting job, and he was going to get promoted on the spot. his mother, who had been'},\n",
              " {'generated_text': 'He sat on the window and looked out at the city. \\n \" he is in the back room having breakfast, in fact it\\'s not surprising. i will be staying just up front. i have to drive him on the way for his morning appointment'},\n",
              " {'generated_text': \"He sat on the window and ran his fingertips over the fabric of his sleeves. \\n the sun would rise soon, and he would be alone and completely vulnerable. the thought was enough to make him shiver, but he didn't care. he wasn't\"},\n",
              " {'generated_text': 'He sat on the window and looked out at the distant lights of the resort. \\n the next day a local bus arrived, with another bus stopping by in the evening ; all their guests were off to their favourite hotel in las vegas. most returned to'},\n",
              " {'generated_text': 'He sat on the window and watched me in the street below. at least he had stopped watching me for the moment. \\n \" they are here, \" he said. \\n \" where? \" i asked. \\n \" on the street, \" sam'}]"
            ]
          },
          "metadata": {},
          "execution_count": 4
        }
      ],
      "source": [
        "from transformers import pipeline, set_seed\n",
        "a = input(\"Введите предложение, чтобы сгенировать текст: \")\n",
        "generator = pipeline('text-generation', model='openai-gpt')\n",
        "set_seed(42)\n",
        "generator(a, max_length=50, num_return_sequences=10)"
      ]
    }
  ]
}